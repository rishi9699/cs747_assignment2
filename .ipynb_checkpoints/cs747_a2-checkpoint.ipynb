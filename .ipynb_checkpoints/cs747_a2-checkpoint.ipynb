{
 "cells": [
  {
   "cell_type": "code",
   "execution_count": null,
   "id": "cc7ae227",
   "metadata": {},
   "outputs": [],
   "source": [
    "f = open('./p2mdpencoded.txt')\n",
    "a = f.readline()\n",
    "ns = int(a.split()[1])\n",
    "a = f.readline()\n",
    "na = int(a.split()[1])\n",
    "ns\n",
    "a = f.readline()\n",
    "end_state = (a.split())[1:]\n",
    "import numpy as np\n",
    "end_state = np.array(end_state, dtype='int')\n",
    "end_state"
   ]
  },
  {
   "cell_type": "code",
   "execution_count": null,
   "id": "0faa401b",
   "metadata": {},
   "outputs": [],
   "source": [
    "mdp = dict(zip(range(ns), [dict() for _ in range(ns)]))\n",
    "\n",
    "tl = f.readline().split()\n",
    "while tl[0]=='transition':\n",
    "    if int(tl[2]) in mdp[int(tl[1])]:\n",
    "        mdp[int(tl[1])][int(tl[2])].append( [int(tl[3]), float(tl[4]), float(tl[5])] )\n",
    "    else:\n",
    "        mdp[int(tl[1])][int(tl[2])] = [[int(tl[3]), float(tl[4]), float(tl[5])]]\n",
    "    tl = f.readline().split()\n",
    "\n",
    "gamma = float((f.readline().split())[1])"
   ]
  },
  {
   "cell_type": "code",
   "execution_count": null,
   "id": "83456065",
   "metadata": {},
   "outputs": [],
   "source": [
    "# Value Iteration\n",
    "\n",
    "V=np.zeros(ns)\n",
    "\n",
    "condition = True\n",
    "while condition:\n",
    "    prev_v = V.copy()\n",
    "    for s in range(ns):\n",
    "        if s in end_state:\n",
    "            continue\n",
    "\n",
    "        a = next(iter(mdp[s]))\n",
    "        cursum = 0\n",
    "        for sp in mdp[s][a]:\n",
    "            cursum+= sp[2]*(sp[1] + gamma*V[sp[0]])\n",
    "        val = cursum\n",
    "        \n",
    "        for a in mdp[s].values():\n",
    "            cursum = 0\n",
    "            for sp in a:\n",
    "                cursum+= sp[2]*(sp[1] + gamma*V[sp[0]])\n",
    "            if cursum>val:\n",
    "                val=cursum\n",
    "        V[s]=val\n",
    "    condition = True if max(abs(V-prev_v))>0.0000000001 else False"
   ]
  },
  {
   "cell_type": "code",
   "execution_count": null,
   "id": "bcb3e8ae",
   "metadata": {},
   "outputs": [],
   "source": [
    "acts = np.zeros(ns, dtype='int')\n",
    "for i in range(ns):\n",
    "    if i in end_state:\n",
    "        continue\n",
    "    acts[i] = next(iter(mdp[i]))\n",
    "\n",
    "for s in range(ns):\n",
    "    if s in end_state:\n",
    "        continue\n",
    "    \n",
    "    a = next(iter(mdp[s]))\n",
    "    cursum = 0\n",
    "    for sp in mdp[s][a]:\n",
    "        cursum+= sp[2]*(sp[1] + gamma*V[sp[0]])\n",
    "    max_a = a\n",
    "    val = cursum\n",
    "    \n",
    "    for a in mdp[s].keys():\n",
    "        cursum = 0\n",
    "        for sp in mdp[s][a]:\n",
    "            cursum+= sp[2]*(sp[1] + gamma*V[sp[0]])\n",
    "        if cursum>val:\n",
    "            max_a = a\n",
    "            val=cursum\n",
    "    acts[s] = max_a"
   ]
  },
  {
   "cell_type": "code",
   "execution_count": null,
   "id": "dbeaa652",
   "metadata": {},
   "outputs": [],
   "source": [
    "acts"
   ]
  },
  {
   "cell_type": "code",
   "execution_count": null,
   "id": "04fbdcb4",
   "metadata": {},
   "outputs": [],
   "source": [
    "# Howard Policy Iteration\n",
    "\n",
    "acts = np.zeros(ns, dtype='int')\n",
    "for i in range(ns):\n",
    "    if i in end_state:\n",
    "        continue\n",
    "    acts[i] = next(iter(mdp[i]))"
   ]
  },
  {
   "cell_type": "code",
   "execution_count": null,
   "id": "9c9c9efb",
   "metadata": {},
   "outputs": [],
   "source": [
    "condition = True\n",
    "while condition:\n",
    "    prev_acts = acts.copy()\n",
    "    for s in range(ns):\n",
    "        if s in end_state:\n",
    "            continue\n",
    "        \n",
    "        max_a = next(iter(mdp[s]))\n",
    "        cursum = 0\n",
    "        for sp in mdp[s][max_a]:\n",
    "            cursum+= sp[2]*(sp[1] + gamma*V[sp[0]])\n",
    "        val = cursum\n",
    "        \n",
    "        for a in mdp[s].keys():    \n",
    "            cursum = 0\n",
    "            for sp in mdp[s][a]:\n",
    "                cursum+= sp[2]*(sp[1] + gamma*V[sp[0]])\n",
    "            if cursum>val:\n",
    "                max_a = a\n",
    "                val=cursum\n",
    "        acts[s] = max_a\n",
    "    update_v(acts, V)\n",
    "    condition = True if sum(prev_acts-acts)!=0 else False"
   ]
  },
  {
   "cell_type": "code",
   "execution_count": null,
   "id": "ec940bca",
   "metadata": {},
   "outputs": [],
   "source": [
    "def update_v(acts, V):\n",
    "    condition = True\n",
    "    while condition:\n",
    "        prev_v = V.copy()\n",
    "        for s in range(ns):\n",
    "            if s in end_state:\n",
    "                continue\n",
    "            cursum=0\n",
    "            for sp in mdp[s][acts[s]]:\n",
    "                cursum+= sp[2]*(sp[1] + gamma*V[sp[0]])\n",
    "            V[s] = cursum\n",
    "        condition = True if max(abs(V-prev_v))>0.000000000001 else False"
   ]
  },
  {
   "cell_type": "code",
   "execution_count": null,
   "id": "4b8c0847",
   "metadata": {},
   "outputs": [],
   "source": [
    "acts"
   ]
  },
  {
   "cell_type": "code",
   "execution_count": null,
   "id": "374d2835",
   "metadata": {},
   "outputs": [],
   "source": [
    "# Linear Programming"
   ]
  },
  {
   "cell_type": "code",
   "execution_count": null,
   "id": "7d432623",
   "metadata": {},
   "outputs": [],
   "source": [
    "import pulp as p"
   ]
  },
  {
   "cell_type": "code",
   "execution_count": null,
   "id": "8872d4af",
   "metadata": {},
   "outputs": [],
   "source": [
    "V = p.LpVariable.dicts(\"V\", range(ns))"
   ]
  },
  {
   "cell_type": "code",
   "execution_count": null,
   "id": "bd7d5f17",
   "metadata": {},
   "outputs": [],
   "source": [
    "Lp_prob = p.LpProblem('Problem', p.LpMinimize)\n",
    "exp = 0\n",
    "for i in V.values():\n",
    "    exp+=i\n",
    "Lp_prob+= exp"
   ]
  },
  {
   "cell_type": "code",
   "execution_count": null,
   "id": "60897c26",
   "metadata": {},
   "outputs": [],
   "source": [
    "#Constraints\n",
    "\n",
    "for s in range(ns):\n",
    "    if s in end_state:\n",
    "        Lp_prob += V[s] == 0\n",
    "        continue\n",
    "    for a in mdp[s].keys():\n",
    "        exp = 0\n",
    "        for sp in mdp[s][a]:\n",
    "            exp+= sp[2]*(sp[1] + gamma*V[sp[0]])\n",
    "        Lp_prob += V[s] >= exp"
   ]
  },
  {
   "cell_type": "code",
   "execution_count": null,
   "id": "1917e3cf",
   "metadata": {},
   "outputs": [],
   "source": [
    "status = Lp_prob.solve(verbose=0)"
   ]
  },
  {
   "cell_type": "code",
   "execution_count": null,
   "id": "5e8f06d2",
   "metadata": {},
   "outputs": [],
   "source": [
    "print(p.LpStatus[status])"
   ]
  },
  {
   "cell_type": "code",
   "execution_count": null,
   "id": "0e8f8512",
   "metadata": {},
   "outputs": [],
   "source": [
    "acts = np.zeros(ns, dtype='int')\n",
    "for i in range(ns):\n",
    "    if i in end_state:\n",
    "        continue\n",
    "    acts[i] = next(iter(mdp[i]))\n",
    "\n",
    "for s in range(ns):\n",
    "    if s in end_state:\n",
    "        continue\n",
    "    \n",
    "    a = next(iter(mdp[s]))\n",
    "    cursum = 0\n",
    "    for sp in mdp[s][a]:\n",
    "        cursum+= sp[2]*(sp[1] + gamma*(V[sp[0]].value()))\n",
    "    max_a = a\n",
    "    val = cursum\n",
    "    \n",
    "    for a in mdp[s].keys():\n",
    "        cursum = 0\n",
    "        for sp in mdp[s][a]:\n",
    "            cursum+= sp[2]*(sp[1] + gamma*(V[sp[0]].value()))\n",
    "        if cursum>val:\n",
    "            max_a = a\n",
    "            val=cursum\n",
    "    acts[s] = max_a"
   ]
  },
  {
   "cell_type": "code",
   "execution_count": null,
   "id": "702270ae",
   "metadata": {},
   "outputs": [],
   "source": [
    "acts"
   ]
  },
  {
   "cell_type": "code",
   "execution_count": null,
   "id": "f69cbc78",
   "metadata": {},
   "outputs": [],
   "source": [
    "pp = np.zeros(ns)\n",
    "k=0\n",
    "while k<ns:\n",
    "    pp[k] = V[k].value()\n",
    "    k+=1"
   ]
  },
  {
   "cell_type": "code",
   "execution_count": null,
   "id": "2fae6754",
   "metadata": {},
   "outputs": [],
   "source": [
    "for i in range(ns):\n",
    "    print(\"{:.6f}\". format(V[i].value()),\" \",acts[i])"
   ]
  },
  {
   "cell_type": "code",
   "execution_count": null,
   "id": "8002327c",
   "metadata": {},
   "outputs": [],
   "source": [
    "for i in range(ns):\n",
    "    print(\"{:.6f}\". format(V[i]),\" \",acts[i])"
   ]
  },
  {
   "cell_type": "code",
   "execution_count": null,
   "id": "fa215ea3",
   "metadata": {},
   "outputs": [],
   "source": [
    "for i in range(ns):\n",
    "    print(\"{:.6f}\". format(V[i]),\" \",acts[i])"
   ]
  },
  {
   "cell_type": "code",
   "execution_count": null,
   "id": "3c054fe1",
   "metadata": {},
   "outputs": [],
   "source": [
    "max(V-pp)"
   ]
  },
  {
   "cell_type": "code",
   "execution_count": null,
   "id": "aaea9e7c",
   "metadata": {},
   "outputs": [],
   "source": []
  }
 ],
 "metadata": {
  "kernelspec": {
   "display_name": "Python 3 (ipykernel)",
   "language": "python",
   "name": "python3"
  },
  "language_info": {
   "codemirror_mode": {
    "name": "ipython",
    "version": 3
   },
   "file_extension": ".py",
   "mimetype": "text/x-python",
   "name": "python",
   "nbconvert_exporter": "python",
   "pygments_lexer": "ipython3",
   "version": "3.7.10"
  }
 },
 "nbformat": 4,
 "nbformat_minor": 5
}
