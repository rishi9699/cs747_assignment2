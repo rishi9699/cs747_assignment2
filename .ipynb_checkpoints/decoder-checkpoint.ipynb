{
 "cells": [
  {
   "cell_type": "code",
   "execution_count": null,
   "id": "2dec01df",
   "metadata": {},
   "outputs": [],
   "source": [
    "f = open('../pa2_base/pa2_base/data/attt/states/states_file_p2.txt')\n",
    "states = f.read().split()\n",
    "states = dict(zip(range(len(states)), states))\n",
    "states"
   ]
  },
  {
   "cell_type": "code",
   "execution_count": null,
   "id": "a1dc172d",
   "metadata": {},
   "outputs": [],
   "source": [
    "f = open('./p2optimalpolicy.txt')\n",
    "print(1)\n",
    "i=0\n",
    "line = f.readline().split()\n",
    "actions = [0]*9\n",
    "while len(line)!=0:\n",
    "    print(states[i], end=' ')\n",
    "    actions[int(line[1])]=1\n",
    "    print(*actions)\n",
    "    actions[int(line[1])]=0\n",
    "    line = f.readline().split()\n",
    "    i+=1"
   ]
  },
  {
   "cell_type": "code",
   "execution_count": null,
   "id": "f5ac1ddb",
   "metadata": {},
   "outputs": [],
   "source": []
  }
 ],
 "metadata": {
  "kernelspec": {
   "display_name": "Python 3 (ipykernel)",
   "language": "python",
   "name": "python3"
  },
  "language_info": {
   "codemirror_mode": {
    "name": "ipython",
    "version": 3
   },
   "file_extension": ".py",
   "mimetype": "text/x-python",
   "name": "python",
   "nbconvert_exporter": "python",
   "pygments_lexer": "ipython3",
   "version": "3.7.10"
  }
 },
 "nbformat": 4,
 "nbformat_minor": 5
}
