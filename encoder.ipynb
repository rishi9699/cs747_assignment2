{
 "cells": [
  {
   "cell_type": "code",
   "execution_count": null,
   "id": "1e1764b1",
   "metadata": {},
   "outputs": [],
   "source": [
    "import numpy as np\n",
    "f = open('../pa2_base/pa2_base/data/attt/states/states_file_p1.txt')\n",
    "states = f.read().split()\n",
    "states = dict(zip(states, range(len(states))))\n",
    "len(states)"
   ]
  },
  {
   "cell_type": "code",
   "execution_count": null,
   "id": "8ac94a70",
   "metadata": {},
   "outputs": [],
   "source": [
    "f = open('../pa2_base/pa2_base/data/attt/policies/p2_policy2.txt')\n",
    "fp = f.readline()\n",
    "tmp = f.readline()"
   ]
  },
  {
   "cell_type": "code",
   "execution_count": null,
   "id": "b018497a",
   "metadata": {},
   "outputs": [],
   "source": [
    "fp[0]"
   ]
  },
  {
   "cell_type": "code",
   "execution_count": null,
   "id": "5b03c01a",
   "metadata": {},
   "outputs": [],
   "source": [
    "oppo_acts = {}\n",
    "while tmp!='':\n",
    "    oppo_acts[tmp.split()[0]] = list(np.array(tmp.split()[1:], dtype='float'))\n",
    "    tmp = f.readline()"
   ]
  },
  {
   "cell_type": "code",
   "execution_count": null,
   "id": "cb880338",
   "metadata": {},
   "outputs": [],
   "source": [
    "oppo_acts"
   ]
  },
  {
   "cell_type": "code",
   "execution_count": null,
   "id": "c48a27e8",
   "metadata": {},
   "outputs": [],
   "source": [
    "# big change for p1 code\n",
    "print('numStates', len(states)+2)\n",
    "print('numActions 9')\n",
    "print('end', len(states), len(states)+1)\n",
    "\n",
    "for s in states:\n",
    "    tmp = list(s)\n",
    "    j=0\n",
    "    while j<9:\n",
    "        if tmp[j]=='0':\n",
    "            tmp[j] = '1'\n",
    "            if ''.join(tmp) in oppo_acts:\n",
    "                probs = oppo_acts[''.join(tmp)]\n",
    "                k=0\n",
    "                while k<9:\n",
    "                    if probs[k]!=0:\n",
    "                        tmp[k]='2'\n",
    "                        if ''.join(tmp) in states:\n",
    "                            #go to tmp state\n",
    "                            #print(s, ''.join(tmp))\n",
    "                            print('transition', states[s], j, states[''.join(tmp)], str(0), probs[k])\n",
    "                            #print()\n",
    "                        else:\n",
    "                            # go to win state\n",
    "                            #print('player 2 ended the game, player 1 won', s, ''.join(tmp))\n",
    "                            print('transition', states[s], j, len(states)+1, 1, probs[k])\n",
    "                            #print()\n",
    "                        tmp[k]='0'\n",
    "                    k+=1\n",
    "            else:\n",
    "                # go to draw or lose state and reward 0\n",
    "                #print(s,'player 1 did something foolish, player 2 won or draw', ''.join(tmp))\n",
    "                print('transition', states[s], j, len(states), '-1 1.0')\n",
    "                #print()\n",
    "            tmp[j]='0'\n",
    "        j+=1\n",
    "        \n",
    "print('mdptype episodic')\n",
    "print('discount  1.0')"
   ]
  },
  {
   "cell_type": "code",
   "execution_count": null,
   "id": "e729fcb6",
   "metadata": {},
   "outputs": [],
   "source": [
    "len(states)"
   ]
  },
  {
   "cell_type": "markdown",
   "id": "b02c4cd9",
   "metadata": {},
   "source": [
    "# player 2 protagonist"
   ]
  },
  {
   "cell_type": "code",
   "execution_count": null,
   "id": "06f8b529",
   "metadata": {},
   "outputs": [],
   "source": [
    "f = open('../pa2_base/pa2_base/data/attt/states/states_file_p2.txt')\n",
    "states = f.read().split()\n",
    "states = dict(zip(states, range(len(states))))\n",
    "states"
   ]
  },
  {
   "cell_type": "code",
   "execution_count": null,
   "id": "9e3b4cc5",
   "metadata": {},
   "outputs": [],
   "source": [
    "f = open('../pa2_base/pa2_base/data/attt/policies/p1_policy1.txt')\n",
    "f.readline()\n",
    "tmp = f.readline()"
   ]
  },
  {
   "cell_type": "code",
   "execution_count": null,
   "id": "35b873d4",
   "metadata": {},
   "outputs": [],
   "source": [
    "import numpy as np\n",
    "oppo_acts = {}\n",
    "while tmp!='':\n",
    "    oppo_acts[tmp.split()[0]] = list(np.array(tmp.split()[1:], dtype='float'))\n",
    "    tmp = f.readline()"
   ]
  },
  {
   "cell_type": "code",
   "execution_count": null,
   "id": "6c4f75ef",
   "metadata": {},
   "outputs": [],
   "source": [
    "oppo_acts"
   ]
  },
  {
   "cell_type": "code",
   "execution_count": null,
   "id": "0795003a",
   "metadata": {},
   "outputs": [],
   "source": [
    "# big change for p2 code\n",
    "print('numStates', len(states)+2)\n",
    "print('numActions 9')\n",
    "print('end', len(states), len(states)+1)\n",
    "\n",
    "for s in states:\n",
    "    tmp = list(s)\n",
    "    j=0\n",
    "    while j<9:\n",
    "        if tmp[j]=='0':\n",
    "            tmp[j] = '2'\n",
    "            if ''.join(tmp) in oppo_acts:\n",
    "                probs = oppo_acts[''.join(tmp)]\n",
    "                k=0\n",
    "                while k<9:\n",
    "                    if probs[k]!=0:\n",
    "                        tmp[k]='1'\n",
    "                        if ''.join(tmp) in states:\n",
    "                            #go to tmp state\n",
    "                            print(s, ''.join(tmp))\n",
    "                            print('transition', states[s], j, states[''.join(tmp)], str(0), probs[k])\n",
    "                            print()\n",
    "                        else:\n",
    "                            # go to win state\n",
    "                            print('player 1 ended the game, player 2 won or draw', s, ''.join(tmp))\n",
    "                            if '0' in tmp:\n",
    "                                print('transition', states[s], j, '2424 1', probs[k]) #won\n",
    "                            else:\n",
    "                                if check1pattern(tmp):\n",
    "                                    print('transition', states[s], j, '2424 1', probs[k]) #won\n",
    "                                else:\n",
    "                                    print('transition', states[s], j, '2423 -1', probs[k]) #draw\n",
    "                            print()\n",
    "                        tmp[k]='0'\n",
    "                    k+=1\n",
    "            else:\n",
    "                # go to draw or lose state and reward 0\n",
    "                print(s,'player 2 did something foolish, player 1 won', ''.join(tmp))\n",
    "                print('transition', states[s], j, '2423 -1 1.0')\n",
    "                print()\n",
    "            tmp[j]='0'\n",
    "        j+=1\n",
    "        \n",
    "print('mdptype episodic')\n",
    "print('discount  1.0')"
   ]
  },
  {
   "cell_type": "code",
   "execution_count": null,
   "id": "77695b48",
   "metadata": {},
   "outputs": [],
   "source": [
    "def check1pattern(tmp):\n",
    "    if tmp[0]=='1' and tmp[1]=='1' and tmp[2]=='1':\n",
    "        return True\n",
    "    elif tmp[3]=='1' and tmp[4]=='1' and tmp[5]=='1':\n",
    "        return True\n",
    "    elif tmp[6]=='1' and tmp[7]=='1' and tmp[8]=='1':\n",
    "        return True\n",
    "    elif tmp[0]=='1' and tmp[3]=='1' and tmp[6]=='1':\n",
    "        return True\n",
    "    elif tmp[1]=='1' and tmp[4]=='1' and tmp[7]=='1':\n",
    "        return True\n",
    "    elif tmp[2]=='1' and tmp[5]=='1' and tmp[8]=='1':\n",
    "        return True\n",
    "    elif tmp[0]=='1' and tmp[4]=='1' and tmp[8]=='1':\n",
    "        return True\n",
    "    elif tmp[2]=='1' and tmp[4]=='1' and tmp[6]=='1':\n",
    "        return True\n",
    "    else:\n",
    "        return False"
   ]
  },
  {
   "cell_type": "code",
   "execution_count": null,
   "id": "6257fdf2",
   "metadata": {},
   "outputs": [],
   "source": []
  }
 ],
 "metadata": {
  "kernelspec": {
   "display_name": "Python 3 (ipykernel)",
   "language": "python",
   "name": "python3"
  },
  "language_info": {
   "codemirror_mode": {
    "name": "ipython",
    "version": 3
   },
   "file_extension": ".py",
   "mimetype": "text/x-python",
   "name": "python",
   "nbconvert_exporter": "python",
   "pygments_lexer": "ipython3",
   "version": "3.7.10"
  }
 },
 "nbformat": 4,
 "nbformat_minor": 5
}
