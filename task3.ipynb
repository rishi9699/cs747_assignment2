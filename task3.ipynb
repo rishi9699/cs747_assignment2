{
 "cells": [
  {
   "cell_type": "code",
   "execution_count": 9,
   "id": "06337d18",
   "metadata": {},
   "outputs": [],
   "source": [
    "!python encoder2.py --policy p2_policy2.txt --states states_file_p1.txt > mdpfile.txt\n",
    "!python planner.py --mdp mdpfile.txt > value_and_policy_file.txt\n",
    "!python decoder.py --value-policy value_and_policy_file.txt --states states_file_p1.txt --player-id 1 > policyfile1.txt\n",
    "\n",
    "for i in range(15):\n",
    "    # player 2 protagonist here\n",
    "    !python encoder2.py --policy policyfile1.txt --states states_file_p2.txt > mdpfile.txt\n",
    "    !python planner.py --mdp mdpfile.txt > value_and_policy_file.txt\n",
    "    !python decoder.py --value-policy value_and_policy_file.txt --states states_file_p2.txt --player-id 2 > policyfile2.txt\n",
    "\n",
    "    # player 1 protagonist here\n",
    "    !python encoder2.py --policy policyfile2.txt --states states_file_p1.txt > mdpfile.txt\n",
    "    !python planner.py --mdp mdpfile.txt > value_and_policy_file.txt\n",
    "    !python decoder.py --value-policy value_and_policy_file.txt --states states_file_p1.txt --player-id 1 > policyfile1.txt\n",
    "    \n"
   ]
  },
  {
   "cell_type": "code",
   "execution_count": 10,
   "id": "68e11440",
   "metadata": {},
   "outputs": [],
   "source": [
    "!python encoder2.py --policy policyfile1.txt --states states_file_p2.txt > mdpfile.txt\n",
    "!python planner.py --mdp mdpfile.txt > value_and_policy_file.txt\n",
    "!python decoder.py --value-policy value_and_policy_file.txt --states states_file_p2.txt --player-id 2 > policyfile2.txt"
   ]
  },
  {
   "cell_type": "code",
   "execution_count": null,
   "id": "4eba88ca",
   "metadata": {},
   "outputs": [],
   "source": []
  },
  {
   "cell_type": "code",
   "execution_count": 11,
   "id": "127a1450",
   "metadata": {},
   "outputs": [],
   "source": [
    "!python encoder.py --policy p2_policy2.txt --states states_file_p1.txt > mdpfile.txt\n",
    "!python planner.py --mdp mdpfile.txt > value_and_policy_file.txt\n",
    "!python decoder.py --value-policy value_and_policy_file.txt --states states_file_p1.txt --player-id 1 > policyfile1.txt\n",
    "\n",
    "for i in range(15):\n",
    "    # player 2 protagonist here\n",
    "    !python encoder.py --policy policyfile1.txt --states states_file_p2.txt > mdpfile.txt\n",
    "    !python planner.py --mdp mdpfile.txt > value_and_policy_file.txt\n",
    "    !python decoder.py --value-policy value_and_policy_file.txt --states states_file_p2.txt --player-id 2 > policyfile2.txt\n",
    "\n",
    "    # player 1 protagonist here\n",
    "    !python encoder.py --policy policyfile2.txt --states states_file_p1.txt > mdpfile.txt\n",
    "    !python planner.py --mdp mdpfile.txt > value_and_policy_file.txt\n",
    "    !python decoder.py --value-policy value_and_policy_file.txt --states states_file_p1.txt --player-id 1 > policyfile1.txt"
   ]
  },
  {
   "cell_type": "code",
   "execution_count": 12,
   "id": "b2928e2b",
   "metadata": {},
   "outputs": [],
   "source": [
    "!python encoder.py --policy policyfile1.txt --states states_file_p2.txt > mdpfile.txt\n",
    "!python planner.py --mdp mdpfile.txt > value_and_policy_file.txt\n",
    "!python decoder.py --value-policy value_and_policy_file.txt --states states_file_p2.txt --player-id 2 > policyfile2.txt"
   ]
  },
  {
   "cell_type": "code",
   "execution_count": null,
   "id": "cd20f983",
   "metadata": {},
   "outputs": [],
   "source": []
  }
 ],
 "metadata": {
  "kernelspec": {
   "display_name": "Python 3 (ipykernel)",
   "language": "python",
   "name": "python3"
  },
  "language_info": {
   "codemirror_mode": {
    "name": "ipython",
    "version": 3
   },
   "file_extension": ".py",
   "mimetype": "text/x-python",
   "name": "python",
   "nbconvert_exporter": "python",
   "pygments_lexer": "ipython3",
   "version": "3.7.10"
  }
 },
 "nbformat": 4,
 "nbformat_minor": 5
}
